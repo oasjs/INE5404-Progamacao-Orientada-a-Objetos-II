{
 "cells": [
  {
   "cell_type": "code",
   "execution_count": null,
   "metadata": {},
   "outputs": [],
   "source": [
    "# Exercício 1. Faça um Programa que leia um vetor de 5 números inteiros e mostre-os.\n",
    "ls1 = [1,2,3,4,5]\n",
    "for num in ls1:\n",
    "    print(num, end=\" \")\n",
    "print(\"\")"
   ]
  },
  {
   "cell_type": "code",
   "execution_count": null,
   "metadata": {},
   "outputs": [],
   "source": [
    "# Exercício 2. Faça um Programa que leia um vetor de 10 números reais e mostre-os na ordem inversa.\n",
    "ls2 = [0,1,2,3,4,5,6,7,8,9]\n",
    "for num in reversed(ls2):\n",
    "    print(num, end=\" \")\n",
    "print(\"\")"
   ]
  },
  {
   "cell_type": "code",
   "execution_count": null,
   "metadata": {},
   "outputs": [],
   "source": [
    "# Exercício 3. Faça um Programa que leia 4 notas, mostre as notas e a média na tela.\n",
    "grades = [10,4,6,9]\n",
    "total = 0\n",
    "for grade in grades:\n",
    "    total += grade\n",
    "print(f'The average grade is {total/len(grades)}')"
   ]
  },
  {
   "cell_type": "code",
   "execution_count": null,
   "metadata": {},
   "outputs": [],
   "source": [
    "# Exercício 4. Faça um Programa que leia um vetor de 10 caracteres, e diga quantas consoantes foram lidas. Imprima as consoantes.\n",
    "ls4 = [1,'a','B','c',5,'K','e','O','l','u']\n",
    "vowels = ['a','e','i','o','u']\n",
    "out = []\n",
    "for character in ls4:\n",
    "    if type(character) == str:\n",
    "        if character.lower() not in vowels:\n",
    "            out.append(character)\n",
    "print(f'{len(out)} consonants were found.')\n",
    "print(\"They are: \", end='')\n",
    "print(\", \".join(out))"
   ]
  },
  {
   "cell_type": "code",
   "execution_count": null,
   "metadata": {},
   "outputs": [],
   "source": [
    "# Exercício 5. Faça um Programa que leia 20 números inteiros e armazene-os num vetor. Armazene os números pares no vetor PAR e os números IMPARES no vetor impar. Imprima os três vetores.\n",
    "num_ls = [None]*20\n",
    "even_ls = []\n",
    "odd_ls = []\n",
    "for i in range(20):\n",
    "    n = int(input())\n",
    "    num_ls[i] = n\n",
    "    if n%2 == 0: even_ls.append(n)\n",
    "    else: odd_ls.append(n)\n",
    "\n",
    "print(num_ls)\n",
    "print(even_ls)\n",
    "print(odd_ls)"
   ]
  },
  {
   "cell_type": "code",
   "execution_count": null,
   "metadata": {},
   "outputs": [],
   "source": [
    "# Exercício 6. Faça um Programa que peça as quatro notas de 10 alunos, calcule e armazene num vetor a média de cada aluno, imprima o número de alunos com média maior ou igual a 7.0.\n",
    "average_ls = []\n",
    "for i in range(10):\n",
    "    grades = input().split()\n",
    "    total = 0\n",
    "    for grade in grades:\n",
    "        grade = float(grade)\n",
    "        total += grade\n",
    "    avrg = total/4\n",
    "    average_ls.append(avrg)\n",
    "\n",
    "num_over_7 = 0\n",
    "for grade in average_ls:\n",
    "    if grade >= 7:\n",
    "        num_over_7 += 1\n",
    "print(num_over_7)"
   ]
  },
  {
   "cell_type": "code",
   "execution_count": null,
   "metadata": {},
   "outputs": [],
   "source": [
    "# Exercício 7. Faça um Programa que leia um vetor de 5 números inteiros, mostre a soma, a multiplicação e os números.\n",
    "ls7 = [2,4,6,8,10]\n",
    "sum_total = 0\n",
    "product = 1\n",
    "for num in ls7:\n",
    "    sum_total += num\n",
    "    product *= num\n",
    "print(sum_total)\n",
    "print(product)"
   ]
  },
  {
   "cell_type": "code",
   "execution_count": null,
   "metadata": {},
   "outputs": [],
   "source": [
    "# Exercício 8. Faça um Programa que peça a idade e a altura de 5 pessoas, armazene cada informação no seu respectivo vetor. Imprima a idade e a altura na ordem inversa a ordem lida.\n",
    "num_of_people = 5\n",
    "ages = [None]*num_of_people\n",
    "heights = [None]*num_of_people\n",
    "for i in range(num_of_people):\n",
    "    info = input().split()\n",
    "    ages[i] = info[0]\n",
    "    heights[i] = info[1]\n",
    "ages.reverse()\n",
    "heights.reverse()\n",
    "print(ages)\n",
    "print(heights)"
   ]
  },
  {
   "cell_type": "code",
   "execution_count": null,
   "metadata": {},
   "outputs": [],
   "source": [
    "# Exercício 9. Faça um Programa que leia um vetor A com 10 números inteiros, calcule e mostre a soma dos quadrados dos elementos do vetor.\n",
    "ls9 = [1,2,3,4,5,6,7,8,9,10]\n",
    "total = 0\n",
    "for num in ls9:\n",
    "    total += num**2\n",
    "print(total)"
   ]
  },
  {
   "cell_type": "code",
   "execution_count": null,
   "metadata": {},
   "outputs": [],
   "source": [
    "# Exercício 10. Faça um Programa que leia dois vetores com 10 elementos cada. Gere um terceiro vetor de 20 elementos, cujos valores deverão ser compostos pelos elementos intercalados dos dois outros vetores.\n",
    "ls10_1 = [1,2,3,4,5,6,7,8,9,10]\n",
    "ls10_2 = [1.1,2.2,3.3,4.4,5.5,6.6,7.7,8.8,9.9,11]\n",
    "ls10_result = [None]*(len(ls10_1)+len(ls10_2))\n",
    "for i in range(len(ls10_result)):\n",
    "    if i%2 == 0:\n",
    "        ls10_result[i] = ls10_1[int(i/2)]\n",
    "    else:\n",
    "        ls10_result[i] = ls10_2[int(i/2)]\n",
    "print(ls10_result)"
   ]
  }
 ],
 "metadata": {
  "kernelspec": {
   "display_name": "Python 3",
   "language": "python",
   "name": "python3"
  },
  "language_info": {
   "codemirror_mode": {
    "name": "ipython",
    "version": 3
   },
   "file_extension": ".py",
   "mimetype": "text/x-python",
   "name": "python",
   "nbconvert_exporter": "python",
   "pygments_lexer": "ipython3",
   "version": "3.6.7"
  }
 },
 "nbformat": 4,
 "nbformat_minor": 2
}
